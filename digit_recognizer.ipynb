{
 "nbformat": 4,
 "nbformat_minor": 2,
 "metadata": {
  "language_info": {
   "name": "python",
   "codemirror_mode": {
    "name": "ipython",
    "version": 3
   },
   "version": "3.6.10-final"
  },
  "orig_nbformat": 2,
  "file_extension": ".py",
  "mimetype": "text/x-python",
  "name": "python",
  "npconvert_exporter": "python",
  "pygments_lexer": "ipython3",
  "version": 3,
  "kernelspec": {
   "name": "python361064bit7b269efdeabe4b6aa7fd53484f1c8269",
   "display_name": "Python 3.6.10 64-bit"
  }
 },
 "cells": [
  {
   "cell_type": "markdown",
   "metadata": {},
   "source": [
    "# Kaggle Competition - Digits Recoginizer\n",
    "\n",
    "Version 1.0\n",
    "\n",
    "## Project introduction\n",
    "\n",
    "## Project Setup\n",
    "\n",
    "### Data Loading"
   ]
  },
  {
   "cell_type": "code",
   "execution_count": 2,
   "metadata": {},
   "outputs": [
    {
     "name": "stdout",
     "output_type": "stream",
     "text": "Uncompressing and reading data... \n===================\nsample_submission.csv extracted.\n===================\ntest.csv extracted.\n===================\ntrain.csv extracted.\n"
    }
   ],
   "source": [
    "import os\n",
    "import pandas as pd\n",
    "import zipfile\n",
    "\n",
    "curDir = os.getcwd()\n",
    "zf = zipfile.ZipFile(curDir + '\\\\data\\\\digit-recognizer.zip')\n",
    "text_files = zf.infolist()\n",
    "list_ = []\n",
    "\n",
    "print (\"Uncompressing and reading data... \")\n",
    "\n",
    "for text_file in text_files:\n",
    "    print(\"===================\")\n",
    "    print(text_file.filename + \" extracted.\")\n",
    "    df = pd.read_csv(zf.open(text_file.filename))\n",
    "    # do df manipulations\n",
    "    list_.append(df)\n"
   ]
  },
  {
   "cell_type": "markdown",
   "metadata": {},
   "source": [
    "### Data Exploration\n",
    "\n",
    "#### Submission sample"
   ]
  },
  {
   "cell_type": "code",
   "execution_count": 7,
   "metadata": {},
   "outputs": [
    {
     "name": "stdout",
     "output_type": "stream",
     "text": "<class 'pandas.core.frame.DataFrame'>\nRangeIndex: 28000 entries, 0 to 27999\nData columns (total 2 columns):\n #   Column   Non-Null Count  Dtype\n---  ------   --------------  -----\n 0   ImageId  28000 non-null  int64\n 1   Label    28000 non-null  int64\ndtypes: int64(2)\nmemory usage: 437.6 KB\nNone\n\n====================================\n\n   ImageId  Label\n0        1      0\n1        2      0\n2        3      0\n3        4      0\n4        5      0\n"
    }
   ],
   "source": [
    "submission_sample = list_[0]\n",
    "print(submission_sample.info())\n",
    "print(\"\")\n",
    "print(\"====================================\")\n",
    "print(\"\")\n",
    "print(submission_sample.head())"
   ]
  },
  {
   "cell_type": "markdown",
   "metadata": {},
   "source": [
    "#### Test set"
   ]
  },
  {
   "cell_type": "code",
   "execution_count": 6,
   "metadata": {},
   "outputs": [
    {
     "name": "stdout",
     "output_type": "stream",
     "text": "<class 'pandas.core.frame.DataFrame'>\nRangeIndex: 28000 entries, 0 to 27999\nColumns: 784 entries, pixel0 to pixel783\ndtypes: int64(784)\nmemory usage: 167.5 MB\nNone\n\n====================================\n\n   pixel0  pixel1  pixel2  pixel3  pixel4  pixel5  pixel6  pixel7  pixel8  \\\n0       0       0       0       0       0       0       0       0       0   \n1       0       0       0       0       0       0       0       0       0   \n2       0       0       0       0       0       0       0       0       0   \n3       0       0       0       0       0       0       0       0       0   \n4       0       0       0       0       0       0       0       0       0   \n\n   pixel9  ...  pixel774  pixel775  pixel776  pixel777  pixel778  pixel779  \\\n0       0  ...         0         0         0         0         0         0   \n1       0  ...         0         0         0         0         0         0   \n2       0  ...         0         0         0         0         0         0   \n3       0  ...         0         0         0         0         0         0   \n4       0  ...         0         0         0         0         0         0   \n\n   pixel780  pixel781  pixel782  pixel783  \n0         0         0         0         0  \n1         0         0         0         0  \n2         0         0         0         0  \n3         0         0         0         0  \n4         0         0         0         0  \n\n[5 rows x 784 columns]\n"
    }
   ],
   "source": [
    "test = list_[1]\n",
    "print(test.info())\n",
    "print(\"\")\n",
    "print(\"====================================\")\n",
    "print(\"\")\n",
    "print(test.head())"
   ]
  },
  {
   "cell_type": "markdown",
   "metadata": {},
   "source": [
    "#### Train set"
   ]
  },
  {
   "cell_type": "code",
   "execution_count": 5,
   "metadata": {},
   "outputs": [
    {
     "name": "stdout",
     "output_type": "stream",
     "text": "<class 'pandas.core.frame.DataFrame'>\nRangeIndex: 42000 entries, 0 to 41999\nColumns: 785 entries, label to pixel783\ndtypes: int64(785)\nmemory usage: 251.5 MB\nNone\n\n====================================\n\n   label  pixel0  pixel1  pixel2  pixel3  pixel4  pixel5  pixel6  pixel7  \\\n0      1       0       0       0       0       0       0       0       0   \n1      0       0       0       0       0       0       0       0       0   \n2      1       0       0       0       0       0       0       0       0   \n3      4       0       0       0       0       0       0       0       0   \n4      0       0       0       0       0       0       0       0       0   \n\n   pixel8  ...  pixel774  pixel775  pixel776  pixel777  pixel778  pixel779  \\\n0       0  ...         0         0         0         0         0         0   \n1       0  ...         0         0         0         0         0         0   \n2       0  ...         0         0         0         0         0         0   \n3       0  ...         0         0         0         0         0         0   \n4       0  ...         0         0         0         0         0         0   \n\n   pixel780  pixel781  pixel782  pixel783  \n0         0         0         0         0  \n1         0         0         0         0  \n2         0         0         0         0  \n3         0         0         0         0  \n4         0         0         0         0  \n\n[5 rows x 785 columns]\n"
    }
   ],
   "source": [
    "train = list_[2]\n",
    "print(train.info())\n",
    "print(\"\")\n",
    "print(\"====================================\")\n",
    "print(\"\")\n",
    "print(train.head())"
   ]
  },
  {
   "cell_type": "markdown",
   "metadata": {},
   "source": [
    "### Data Preparation"
   ]
  },
  {
   "cell_type": "code",
   "execution_count": null,
   "metadata": {},
   "outputs": [],
   "source": [
    "y = train[\"label\"]\n",
    "x = train.drop(labels = [\"label\"], axis = 1) \n",
    "\n",
    "# Reshape data\n",
    "x = x.values.reshape(-1, IMAGE_WIDTH, IMAGE_HEIGHT, CHANNELS)\n",
    "test = test.values.reshape(-1, IMAGE_WIDTH, IMAGE_HEIGHT, CHANNELS)\n",
    "\n",
    "# One-Hot encoding\n",
    "y = to_categorical(y, num_classes=CLASSES)"
   ]
  },
  {
   "cell_type": "code",
   "execution_count": 6,
   "metadata": {},
   "outputs": [
    {
     "name": "stdout",
     "output_type": "stream",
     "text": "<class 'pandas.core.frame.DataFrame'>\nRangeIndex: 28000 entries, 0 to 27999\nData columns (total 2 columns):\n #   Column   Non-Null Count  Dtype\n---  ------   --------------  -----\n 0   ImageId  28000 non-null  int64\n 1   Label    28000 non-null  int64\ndtypes: int64(2)\nmemory usage: 437.6 KB\nNone\n==========================\n   ImageId  Label\n0        1      0\n1        2      0\n2        3      0\n3        4      0\n4        5      0\n"
    }
   ],
   "source": [
    "print(list_[0].info())\n",
    "print(\"====================================\n",
    "\")\n",
    "print(list_[0].head())"
   ]
  },
  {
   "cell_type": "code",
   "execution_count": null,
   "metadata": {},
   "outputs": [],
   "source": []
  },
  {
   "cell_type": "code",
   "execution_count": null,
   "metadata": {},
   "outputs": [],
   "source": []
  }
 ]
}