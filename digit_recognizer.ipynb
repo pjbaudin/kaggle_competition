{
 "nbformat": 4,
 "nbformat_minor": 2,
 "metadata": {
  "language_info": {
   "name": "python",
   "codemirror_mode": {
    "name": "ipython",
    "version": 3
   },
   "version": "3.6.10-final"
  },
  "orig_nbformat": 2,
  "file_extension": ".py",
  "mimetype": "text/x-python",
  "name": "python",
  "npconvert_exporter": "python",
  "pygments_lexer": "ipython3",
  "version": 3,
  "kernelspec": {
   "name": "python361064bit7b269efdeabe4b6aa7fd53484f1c8269",
   "display_name": "Python 3.6.10 64-bit"
  }
 },
 "cells": [
  {
   "cell_type": "code",
   "execution_count": 28,
   "metadata": {},
   "outputs": [
    {
     "name": "stdout",
     "output_type": "stream",
     "text": "Uncompressing and reading data... \nsample_submission.csv\ntest.csv\ntrain.csv\n   ImageId  Label\n0        1      0\n1        2      0\n2        3      0\n3        4      0\n4        5      0\n"
    }
   ],
   "source": [
    "import os\n",
    "import pandas as pd\n",
    "import zipfile\n",
    "\n",
    "curDir = os.getcwd()\n",
    "zf = zipfile.ZipFile(curDir + '\\\\data\\\\digit-recognizer.zip')\n",
    "text_files = zf.infolist()\n",
    "list_ = []\n",
    "\n",
    "print (\"Uncompressing and reading data... \")\n",
    "\n",
    "for text_file in text_files:\n",
    "    print(text_file.filename)\n",
    "    df = pd.read_csv(zf.open(text_file.filename))\n",
    "    # do df manipulations\n",
    "    list_.append(df)\n",
    "\n",
    "print(list_[0].head())"
   ]
  }
 ]
}